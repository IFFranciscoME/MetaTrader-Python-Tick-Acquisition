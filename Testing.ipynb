{
 "cells": [
  {
   "cell_type": "code",
   "execution_count": 21,
   "metadata": {
    "pycharm": {
     "is_executing": false
    }
   },
   "outputs": [
    {
     "name": "stdout",
     "output_type": "stream",
     "text": [
      "The autoreload extension is already loaded. To reload it, use:\n",
      "  %reload_ext autoreload\n"
     ]
    }
   ],
   "source": [
    "%run \"ZeroMQ Python Connector\".py\n",
    "%load_ext autoreload\n",
    "%autoreload\n",
    "import pandas as pd"
   ]
  },
  {
   "cell_type": "code",
   "execution_count": 22,
   "metadata": {
    "pycharm": {
     "is_executing": false
    }
   },
   "outputs": [
    {
     "name": "stdout",
     "output_type": "stream",
     "text": [
      "[INIT] Ready to send commands to METATRADER (PUSH): 32768\n",
      "[INIT] Listening for responses from METATRADER (PULL): 32769\n",
      "[INIT] Listening for market data from METATRADER (SUB): 32770\n"
     ]
    }
   ],
   "source": [
    "#Create connector instance, with particular port for PUSH, PULL and SUB\n",
    "connector = DWX_ZeroMQ_Connector()"
   ]
  },
  {
   "cell_type": "code",
   "execution_count": 24,
   "metadata": {
    "pycharm": {
     "is_executing": false
    }
   },
   "outputs": [
    {
     "name": "stdout",
     "output_type": "stream",
     "text": [
      "557674598\n",
      "{'_messageID': 557674598, '_action': 'DATA', '_data': {'2018.11.29 00:00': 1.27847, '2018.11.30 00:00': 1.27493, '2018.12.03 00:00': 1.27233, '2018.12.04 00:00': 1.27118, '2018.12.05 00:00': 1.27323, '2018.12.06 00:00': 1.27828, '2018.12.07 00:00': 1.27349, '2018.12.10 00:00': 1.25604, '2018.12.11 00:00': 1.24887, '2018.12.12 00:00': 1.26273, '2018.12.13 00:00': 1.26569, '2018.12.14 00:00': 1.25808, '2018.12.17 00:00': 1.26135, '2018.12.18 00:00': 1.26364, '2018.12.19 00:00': 1.26101, '2018.12.20 00:00': 1.26572, '2018.12.21 00:00': 1.26354, '2018.12.24 00:00': 1.26953, '2018.12.26 00:00': 1.26329, '2018.12.27 00:00': 1.26441, '2018.12.28 00:00': 1.26929, '2018.12.31 00:00': 1.27556, '2019.01.02 00:00': 1.26085, '2019.01.03 00:00': 1.26325, '2019.01.04 00:00': 1.27266, '2019.01.07 00:00': 1.27734, '2019.01.08 00:00': 1.27123, '2019.01.09 00:00': 1.27876, '2019.01.10 00:00': 1.27488, '2019.01.11 00:00': 1.28392, '2019.01.14 00:00': 1.28654, '2019.01.15 00:00': 1.28593, '2019.01.16 00:00': 1.2876, '2019.01.17 00:00': 1.29846, '2019.01.18 00:00': 1.28719, '2019.01.21 00:00': 1.2891, '2019.01.22 00:00': 1.29561, '2019.01.23 00:00': 1.30662, '2019.01.24 00:00': 1.30621, '2019.01.25 00:00': 1.31972, '2019.01.28 00:00': 1.3155, '2019.01.29 00:00': 1.30661, '2019.01.30 00:00': 1.31139, '2019.01.31 00:00': 1.31092, '2019.02.01 00:00': 1.30769, '2019.02.04 00:00': 1.30299, '2019.02.05 00:00': 1.29489, '2019.02.06 00:00': 1.29286, '2019.02.07 00:00': 1.29483, '2019.02.08 00:00': 1.29404, '2019.02.11 00:00': 1.28592, '2019.02.12 00:00': 1.28899, '2019.02.13 00:00': 1.28448, '2019.02.14 00:00': 1.27982, '2019.02.15 00:00': 1.28882, '2019.02.18 00:00': 1.29223, '2019.02.19 00:00': 1.30609, '2019.02.20 00:00': 1.30488, '2019.02.21 00:00': 1.30371, '2019.02.22 00:00': 1.3054, '2019.02.25 00:00': 1.30951, '2019.02.26 00:00': 1.32491, '2019.02.27 00:00': 1.33078, '2019.02.28 00:00': 1.32594, '2019.03.01 00:00': 1.32107, '2019.03.04 00:00': 1.31778, '2019.03.05 00:00': 1.31764, '2019.03.06 00:00': 1.31689, '2019.03.07 00:00': 1.30804, '2019.03.08 00:00': 1.30181, '2019.03.11 00:00': 1.31457, '2019.03.12 00:00': 1.307, '2019.03.13 00:00': 1.3335, '2019.03.14 00:00': 1.32401, '2019.03.15 00:00': 1.32926, '2019.03.18 00:00': 1.32522, '2019.03.19 00:00': 1.32637, '2019.03.20 00:00': 1.31898, '2019.03.21 00:00': 1.31043, '2019.03.22 00:00': 1.32094, '2019.03.25 00:00': 1.31958, '2019.03.26 00:00': 1.32017, '2019.03.27 00:00': 1.31854, '2019.03.28 00:00': 1.3038, '2019.03.29 00:00': 1.30292, '2019.04.01 00:00': 1.31035, '2019.04.02 00:00': 1.31307, '2019.04.03 00:00': 1.31549, '2019.04.04 00:00': 1.30728, '2019.04.05 00:00': 1.30359, '2019.04.08 00:00': 1.30593, '2019.04.09 00:00': 1.3046, '2019.04.10 00:00': 1.30854, '2019.04.11 00:00': 1.3051, '2019.04.12 00:00': 1.30738, '2019.04.15 00:00': 1.30943, '2019.04.16 00:00': 1.30456, '2019.04.17 00:00': 1.30419, '2019.04.18 00:00': 1.29829, '2019.04.19 00:00': 1.29859, '2019.04.22 00:00': 1.29791, '2019.04.23 00:00': 1.2935, '2019.04.24 00:00': 1.28983, '2019.04.25 00:00': 1.28952, '2019.04.26 00:00': 1.29165, '2019.04.29 00:00': 1.29316, '2019.04.30 00:00': 1.30305, '2019.05.01 00:00': 1.30485, '2019.05.02 00:00': 1.30308, '2019.05.03 00:00': 1.3175, '2019.05.06 00:00': 1.30944, '2019.05.07 00:00': 1.3073, '2019.05.08 00:00': 1.30048, '2019.05.09 00:00': 1.30045, '2019.05.10 00:00': 1.29999, '2019.05.13 00:00': 1.29566, '2019.05.14 00:00': 1.29031, '2019.05.15 00:00': 1.28419, '2019.05.16 00:00': 1.27937, '2019.05.17 00:00': 1.27158, '2019.05.20 00:00': 1.27218, '2019.05.21 00:00': 1.27009, '2019.05.22 00:00': 1.26599, '2019.05.23 00:00': 1.26565, '2019.05.24 00:00': 1.27113}}\n"
     ]
    }
   ],
   "source": [
    "ID = connector._DWX_MTX_SEND_MARKETDATA_REQUEST_(_symbol='GBPUSD', _start=(Timestamp.now()-Timedelta(days=178)).strftime('%Y.%m.%d %H:%M:00'),_timeframe=1440,_end=Timestamp.now().strftime('%Y.%m.%d %H:%M:00'))\n",
    "print(ID)"
   ]
  },
  {
   "cell_type": "code",
   "execution_count": null,
   "metadata": {
    "pycharm": {
     "is_executing": false
    },
    "scrolled": false
   },
   "outputs": [],
   "source": [
    "response = Series(connector._get_response_())\n",
    "responseData = Series(response[\"_data\"])\n",
    "print(type(responseData[0]))\n",
    "order = connector._generate_default_order_dict()\n",
    "print(order)"
   ]
  },
  {
   "cell_type": "code",
   "execution_count": null,
   "metadata": {
    "pycharm": {
     "is_executing": false,
     "name": "#%%\n"
    }
   },
   "outputs": [],
   "source": [
    "order = connector._generate_default_order_dict()\n",
    "connector._DWX_MTX_SEND_MARKETDATA_REQUEST_(_symbol='GBPUSD', _start=(Timestamp.now()-Timedelta(minutes=1)).strftime('%Y.%m.%d %H:%M:00'),_timeframe=1,_end=Timestamp.now().strftime('%Y.%m.%d %H:%M:00'))\n",
    "response = Series(connector._get_response_())\n",
    "responseData = Series(response[\"_data\"])\n",
    "order['_symbol'] = 'GBPUSD'\n",
    "order['_price'] = responseData[0]\n",
    "#connector._DWX_MTX_NEW_TRADE_(order)"
   ]
  },
  {
   "cell_type": "code",
   "execution_count": 17,
   "metadata": {
    "pycharm": {
     "name": "#%%\n"
    }
   },
   "outputs": [
    {
     "name": "stdout",
     "output_type": "stream",
     "text": [
      "491084755\n"
     ]
    }
   ],
   "source": [
    "message = connector._DWX_MTX_GET_ALL_OPEN_TRADES_()\n",
    "print(message)"
   ]
  },
  {
   "cell_type": "code",
   "execution_count": null,
   "metadata": {},
   "outputs": [],
   "source": [
    "def obtainMarketDataChunk(symbol,startTime, endTime, timeframe=1):\n",
    "    outputFrame = pd.DataFrame()\n",
    "    \n",
    "    if timeframe == 1:\n",
    "        chunkSizeMinutes = 125\n",
    "        chunkSizeDays = 0\n",
    "    elif timeframe == 1440:\n",
    "        chunkSizeDays = 125\n",
    "        chunkSizeMinutes = 0\n",
    "    pdStartTime = Timestamp.strptime(startTime,'%Y.%m.%d %H:%M:00')\n",
    "    pdEndTime = Timestamp.strptime(endTime,'%Y.%m.%d %H:%M:00')\n",
    "    timeDelta = pdEndTime - pdStartTime \n",
    "    divMod = divmod(timeDelta,Timedelta(minutes=chunkSizeMinutes, days = chunkSizeDays))\n",
    "    currentStartTime = None\n",
    "    currentEndTime = None\n",
    "    response = None\n",
    "    print(divMod)\n",
    "    for x in range(divMod[0]):\n",
    "        print(\"--------------------------------------------------------------------------------------------------\")\n",
    "        oldResponse = connector._get_response_()\n",
    "        currentStartTime = pdStartTime + (x*Timedelta(minutes=chunkSizeMinutes, days = chunkSizeDays))\n",
    "        currentEndTime = pdStartTime + ((x+1)*Timedelta(minutes=chunkSizeMinutes, days = chunkSizeDays))\n",
    "        connector._DWX_MTX_SEND_MARKETDATA_REQUEST_(_symbol=symbol, _start=currentStartTime.strftime('%Y.%m.%d %H:%M:00'),\n",
    "                                                    _timeframe=timeframe,_end=currentEndTime.strftime('%Y.%m.%d %H:%M:00'))\n",
    "        while (connector._get_response_() == oldResponse):\n",
    "            pass\n",
    "        \n",
    "        response = connector._get_response_()\n",
    "        outputFrame = outputFrame.append(Series(response['_data']).to_frame())\n",
    "        sleep(0.1)\n",
    "        print(\"--------------------------------------------------------------------------------------------------\")\n",
    "        \n",
    "    \n",
    "    print(\"--------------------------------------------------------------------------------------------------\")\n",
    "    connector._DWX_MTX_SEND_MARKETDATA_REQUEST_(_symbol=symbol, _start=currentEndTime.strftime('%Y.%m.%d %H:%M:00'),\n",
    "                                                _timeframe=timeframe,_end=endTime)\n",
    "    oldResponse = connector._get_response_()\n",
    "    while (connector._get_response_() == oldResponse):\n",
    "            pass\n",
    "    response = connector._get_response_()\n",
    "    outputFrame = outputFrame.append(Series(response['_data']).to_frame())\n",
    "    print(\"--------------------------------------------------------------------------------------------------\")\n",
    "    return outputFrame.reset_index()\n"
   ]
  },
  {
   "cell_type": "code",
   "execution_count": null,
   "metadata": {
    "scrolled": false
   },
   "outputs": [],
   "source": [
    "datachunk = obtainMarketDataChunk('GBPUSD', '2018.10.22 10:00:00', '2019.05.23 01:00:00',timeframe=1440)\n",
    "print(datachunk.to_string())"
   ]
  },
  {
   "cell_type": "code",
   "execution_count": null,
   "metadata": {},
   "outputs": [],
   "source": []
  }
 ],
 "metadata": {
  "kernelspec": {
   "display_name": "Python 3",
   "language": "python",
   "name": "python3"
  },
  "language_info": {
   "codemirror_mode": {
    "name": "ipython",
    "version": 3
   },
   "file_extension": ".py",
   "mimetype": "text/x-python",
   "name": "python",
   "nbconvert_exporter": "python",
   "pygments_lexer": "ipython3",
   "version": "3.6.5"
  },
  "pycharm": {
   "stem_cell": {
    "cell_type": "raw",
    "metadata": {
     "collapsed": false
    },
    "source": []
   }
  }
 },
 "nbformat": 4,
 "nbformat_minor": 1
}
