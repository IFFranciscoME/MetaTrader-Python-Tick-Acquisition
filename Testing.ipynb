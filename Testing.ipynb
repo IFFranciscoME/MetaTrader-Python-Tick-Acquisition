{
 "cells": [
  {
   "cell_type": "code",
   "execution_count": 1,
   "metadata": {
    "pycharm": {
     "is_executing": false
    }
   },
   "outputs": [],
   "source": [
    "%run \"ZeroMQ Python Connector\".py\n",
    "%load_ext autoreload\n",
    "%autoreload\n",
    "import pandas as pd"
   ]
  },
  {
   "cell_type": "code",
   "execution_count": 2,
   "metadata": {
    "pycharm": {
     "is_executing": false
    }
   },
   "outputs": [
    {
     "name": "stdout",
     "output_type": "stream",
     "text": [
      "[INIT] Ready to send commands to METATRADER (PUSH): 32768\n",
      "[INIT] Listening for responses from METATRADER (PULL): 32769\n",
      "[INIT] Listening for market data from METATRADER (SUB): 32770\n"
     ]
    }
   ],
   "source": [
    "#Create connector instance, with particular port for PUSH, PULL and SUB\n",
    "connector = DWX_ZeroMQ_Connector()"
   ]
  },
  {
   "cell_type": "code",
   "execution_count": 14,
   "metadata": {
    "pycharm": {
     "is_executing": false
    }
   },
   "outputs": [
    {
     "name": "stdout",
     "output_type": "stream",
     "text": [
      "{'_messageID': 1734497286, '_action': 'DATA', '_data': {'2019.05.24 00:00': 1.27113}}\n",
      "{'_messageID': 1734497286, '_action': 'DATA', '_data': {'2019.05.24 00:00': 1.27113}}\n"
     ]
    }
   ],
   "source": [
    "ID = connector._DWX_MTX_SEND_MARKETDATA_REQUEST_(_symbol='GBPUSD', _start=(Timestamp.now()-Timedelta(days=2)).strftime('%Y.%m.%d %H:%M:00'),_timeframe=1440,_end=Timestamp.now().strftime('%Y.%m.%d %H:%M:00'))\n",
    "response = connector._get_response_(messageID = ID)\n",
    "print(response)"
   ]
  },
  {
   "cell_type": "code",
   "execution_count": null,
   "metadata": {
    "pycharm": {
     "is_executing": false
    },
    "scrolled": false
   },
   "outputs": [],
   "source": [
    "response = Series(connector._get_response_())\n",
    "responseData = Series(response[\"_data\"])\n",
    "print(type(responseData[0]))\n",
    "order = connector._generate_default_order_dict()\n",
    "print(order)"
   ]
  },
  {
   "cell_type": "code",
   "execution_count": null,
   "metadata": {
    "pycharm": {
     "is_executing": false,
     "name": "#%%\n"
    }
   },
   "outputs": [],
   "source": [
    "order = connector._generate_default_order_dict()\n",
    "connector._DWX_MTX_SEND_MARKETDATA_REQUEST_(_symbol='GBPUSD', _start=(Timestamp.now()-Timedelta(minutes=1)).strftime('%Y.%m.%d %H:%M:00'),_timeframe=1,_end=Timestamp.now().strftime('%Y.%m.%d %H:%M:00'))\n",
    "response = Series(connector._get_response_())\n",
    "responseData = Series(response[\"_data\"])\n",
    "order['_symbol'] = 'GBPUSD'\n",
    "order['_price'] = responseData[0]\n",
    "#connector._DWX_MTX_NEW_TRADE_(order)"
   ]
  },
  {
   "cell_type": "code",
   "execution_count": null,
   "metadata": {
    "pycharm": {
     "name": "#%%\n"
    }
   },
   "outputs": [],
   "source": [
    "message = connector._DWX_MTX_GET_ALL_OPEN_TRADES_()\n",
    "print(message)"
   ]
  },
  {
   "cell_type": "code",
   "execution_count": null,
   "metadata": {},
   "outputs": [],
   "source": [
    "def obtainMarketDataChunk(symbol,startTime, endTime, timeframe=1):\n",
    "    outputFrame = pd.DataFrame()\n",
    "    \n",
    "    if timeframe == 1:\n",
    "        chunkSizeMinutes = 125\n",
    "        chunkSizeDays = 0\n",
    "    elif timeframe == 1440:\n",
    "        chunkSizeDays = 125\n",
    "        chunkSizeMinutes = 0\n",
    "    pdStartTime = Timestamp.strptime(startTime,'%Y.%m.%d %H:%M:00')\n",
    "    pdEndTime = Timestamp.strptime(endTime,'%Y.%m.%d %H:%M:00')\n",
    "    timeDelta = pdEndTime - pdStartTime \n",
    "    divMod = divmod(timeDelta,Timedelta(minutes=chunkSizeMinutes, days = chunkSizeDays))\n",
    "    currentStartTime = None\n",
    "    currentEndTime = None\n",
    "    response = None\n",
    "    print(divMod)\n",
    "    for x in range(divMod[0]):\n",
    "        print(\"--------------------------------------------------------------------------------------------------\")\n",
    "        oldResponse = connector._get_response_()\n",
    "        currentStartTime = pdStartTime + (x*Timedelta(minutes=chunkSizeMinutes, days = chunkSizeDays))\n",
    "        currentEndTime = pdStartTime + ((x+1)*Timedelta(minutes=chunkSizeMinutes, days = chunkSizeDays))\n",
    "        connector._DWX_MTX_SEND_MARKETDATA_REQUEST_(_symbol=symbol, _start=currentStartTime.strftime('%Y.%m.%d %H:%M:00'),\n",
    "                                                    _timeframe=timeframe,_end=currentEndTime.strftime('%Y.%m.%d %H:%M:00'))\n",
    "        while (connector._get_response_() == oldResponse):\n",
    "            pass\n",
    "        \n",
    "        response = connector._get_response_()\n",
    "        outputFrame = outputFrame.append(Series(response['_data']).to_frame())\n",
    "        sleep(0.1)\n",
    "        print(\"--------------------------------------------------------------------------------------------------\")\n",
    "        \n",
    "    \n",
    "    print(\"--------------------------------------------------------------------------------------------------\")\n",
    "    connector._DWX_MTX_SEND_MARKETDATA_REQUEST_(_symbol=symbol, _start=currentEndTime.strftime('%Y.%m.%d %H:%M:00'),\n",
    "                                                _timeframe=timeframe,_end=endTime)\n",
    "    oldResponse = connector._get_response_()\n",
    "    while (connector._get_response_() == oldResponse):\n",
    "            pass\n",
    "    response = connector._get_response_()\n",
    "    outputFrame = outputFrame.append(Series(response['_data']).to_frame())\n",
    "    print(\"--------------------------------------------------------------------------------------------------\")\n",
    "    return outputFrame.reset_index()\n"
   ]
  },
  {
   "cell_type": "code",
   "execution_count": null,
   "metadata": {
    "scrolled": false
   },
   "outputs": [],
   "source": [
    "datachunk = obtainMarketDataChunk('GBPUSD', '2018.10.22 10:00:00', '2019.05.23 01:00:00',timeframe=1440)\n",
    "print(datachunk.to_string())"
   ]
  },
  {
   "cell_type": "code",
   "execution_count": null,
   "metadata": {},
   "outputs": [],
   "source": []
  }
 ],
 "metadata": {
  "kernelspec": {
   "display_name": "Python 3",
   "language": "python",
   "name": "python3"
  },
  "language_info": {
   "codemirror_mode": {
    "name": "ipython",
    "version": 3
   },
   "file_extension": ".py",
   "mimetype": "text/x-python",
   "name": "python",
   "nbconvert_exporter": "python",
   "pygments_lexer": "ipython3",
   "version": "3.6.5"
  },
  "pycharm": {
   "stem_cell": {
    "cell_type": "raw",
    "metadata": {
     "collapsed": false
    },
    "source": []
   }
  }
 },
 "nbformat": 4,
 "nbformat_minor": 1
}
