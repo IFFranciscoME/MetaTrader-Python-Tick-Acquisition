{
 "cells": [
  {
   "cell_type": "code",
   "execution_count": 1,
   "metadata": {
    "pycharm": {
     "is_executing": false
    }
   },
   "outputs": [],
   "source": [
    "%run \"ZeroMQ Python Connector\".py\n",
    "%load_ext autoreload\n",
    "%autoreload"
   ]
  },
  {
   "cell_type": "code",
   "execution_count": 2,
   "metadata": {
    "pycharm": {
     "is_executing": false
    }
   },
   "outputs": [
    {
     "name": "stdout",
     "output_type": "stream",
     "text": [
      "[INIT] Ready to send commands to METATRADER (PUSH): 32768\n",
      "[INIT] Listening for responses from METATRADER (PULL): 32769\n",
      "[INIT] Listening for market data from METATRADER (SUB): 32770\n"
     ]
    }
   ],
   "source": [
    "#Create connector instance, with particular port for PUSH, PULL and SUB\n",
    "connector = DWX_ZeroMQ_Connector()"
   ]
  },
  {
   "cell_type": "code",
   "execution_count": 14,
   "metadata": {
    "pycharm": {
     "is_executing": false
    }
   },
   "outputs": [
    {
     "name": "stdout",
     "output_type": "stream",
     "text": [
      "{'_action': 'DATA', '_data': {'2019.05.23 00:38': 1.26593}}\n"
     ]
    }
   ],
   "source": [
    "connector._DWX_MTX_SEND_MARKETDATA_REQUEST_(_symbol='GBPUSD', _start=(Timestamp.now()-Timedelta(minutes=1)).strftime('%Y.%m.%d %H:%M:00'),_timeframe=1,_end=Timestamp.now().strftime('%Y.%m.%d %H:%M:00'))"
   ]
  },
  {
   "cell_type": "code",
   "execution_count": 36,
   "metadata": {
    "pycharm": {
     "is_executing": false
    },
    "scrolled": false
   },
   "outputs": [
    {
     "name": "stdout",
     "output_type": "stream",
     "text": [
      "<class 'numpy.float64'>\n",
      "{'_action': 'OPEN', '_type': 0, '_symbol': 'EURUSD', '_price': 0.0, '_SL': 500, '_TP': 500, '_comment': 'DWX_Python_to_MT', '_lots': 0.01, '_magic': 123456, '_ticket': 0}\n"
     ]
    }
   ],
   "source": [
    "response = Series(connector._get_response_())\n",
    "responseData = Series(response[\"_data\"])\n",
    "print(type(responseData[0]))\n",
    "order = connector._generate_default_order_dict()\n",
    "print(order)"
   ]
  },
  {
   "cell_type": "code",
   "execution_count": 37,
   "metadata": {
    "pycharm": {
     "is_executing": false,
     "name": "#%%\n"
    }
   },
   "outputs": [
    {
     "name": "stdout",
     "output_type": "stream",
     "text": [
      "{'_action': 'DATA', '_data': {'2019.05.23 01:06': 1.26609, '2019.05.23 01:07': 1.2661}}\n",
      "{'_action': 'EXECUTION', '_magic': 123456, '_ticket': 89688256, '_open_time': '2019.05.23 03:07:05', '_open_price': 1.2662, '_sl': 500.0, '_tp': 500.0}\n"
     ]
    }
   ],
   "source": [
    "order = connector._generate_default_order_dict()\n",
    "connector._DWX_MTX_SEND_MARKETDATA_REQUEST_(_symbol='GBPUSD', _start=(Timestamp.now()-Timedelta(minutes=1)).strftime('%Y.%m.%d %H:%M:00'),_timeframe=1,_end=Timestamp.now().strftime('%Y.%m.%d %H:%M:00'))\n",
    "response = Series(connector._get_response_())\n",
    "responseData = Series(response[\"_data\"])\n",
    "order['_symbol'] = 'GBPUSD'\n",
    "order['_price'] = responseData[0]\n",
    "connector._DWX_MTX_NEW_TRADE_(order)"
   ]
  },
  {
   "cell_type": "code",
   "execution_count": 40,
   "metadata": {
    "pycharm": {
     "name": "#%%\n"
    }
   },
   "outputs": [
    {
     "name": "stdout",
     "output_type": "stream",
     "text": [
      "{'_action': 'OPEN_TRADES', '_trades': {}}\n"
     ]
    }
   ],
   "source": [
    "connector._DWX_MTX_GET_ALL_OPEN_TRADES_()"
   ]
  },
  {
   "cell_type": "code",
   "execution_count": null,
   "metadata": {},
   "outputs": [],
   "source": []
  }
 ],
 "metadata": {
  "kernelspec": {
   "display_name": "Python 3",
   "language": "python",
   "name": "python3"
  },
  "language_info": {
   "codemirror_mode": {
    "name": "ipython",
    "version": 3
   },
   "file_extension": ".py",
   "mimetype": "text/x-python",
   "name": "python",
   "nbconvert_exporter": "python",
   "pygments_lexer": "ipython3",
   "version": "3.6.5"
  },
  "pycharm": {
   "stem_cell": {
    "cell_type": "raw",
    "metadata": {
     "collapsed": false
    },
    "source": []
   }
  }
 },
 "nbformat": 4,
 "nbformat_minor": 1
}
