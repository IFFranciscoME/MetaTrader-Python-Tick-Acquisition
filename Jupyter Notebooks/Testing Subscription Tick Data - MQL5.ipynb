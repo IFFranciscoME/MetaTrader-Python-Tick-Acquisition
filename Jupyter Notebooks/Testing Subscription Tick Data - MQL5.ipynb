{
 "cells": [
  {
   "cell_type": "markdown",
   "metadata": {},
   "source": [
    "# Import Statements and Initialisation"
   ]
  },
  {
   "cell_type": "code",
   "execution_count": 2,
   "metadata": {},
   "outputs": [
    {
     "name": "stdout",
     "output_type": "stream",
     "text": [
      "The autoreload extension is already loaded. To reload it, use:\n",
      "  %reload_ext autoreload\n",
      "5\n",
      "[<_MainThread(MainThread, started 16072)>, <Thread(Thread-4, started daemon 15412)>, <Heartbeat(Thread-5, started daemon 13700)>, <HistorySavingThread(IPythonHistorySavingThread, started 15356)>, <ParentPollerWindows(Thread-3, started daemon 6548)>]\n",
      "[INIT] Ready to send commands to METATRADER (PUSH): 32768\n",
      "[INIT] Listening for responses from METATRADER (PULL): 32769\n",
      "[INIT] Listening for market data from METATRADER (SUB): 32770\n"
     ]
    }
   ],
   "source": [
    "%run \"..\\Python Client Connector\\Python Client Connnector V1\".py\n",
    "%load_ext autoreload\n",
    "%autoreload\n",
    "%matplotlib notebook\n",
    "import pandas as pd\n",
    "from functools import partial\n",
    "import threading\n",
    "print(threading.active_count())\n",
    "print(threading.enumerate())\n",
    "#Create connector instance, with particular port for PUSH, PULL and SUB\n",
    "connector = MTConnector()"
   ]
  },
  {
   "cell_type": "markdown",
   "metadata": {},
   "source": [
    "# Subscribing to Tick Data"
   ]
  },
  {
   "cell_type": "code",
   "execution_count": 3,
   "metadata": {},
   "outputs": [
    {
     "name": "stdout",
     "output_type": "stream",
     "text": [
      "[KERNEL] Subscribed to  BID/ASK updates. See self.MARKET_DATA_DB.\n",
      "6\n",
      "[<_MainThread(MainThread, started 16072)>, <Thread(Thread-4, started daemon 15412)>, <Heartbeat(Thread-5, started daemon 13700)>, <HistorySavingThread(IPythonHistorySavingThread, started 15356)>, <ParentPollerWindows(Thread-3, started daemon 6548)>, <Thread(Thread-6, started 9404)>]\n"
     ]
    }
   ],
   "source": [
    "connector.subscribeToSymbolTicks()\n",
    "print(threading.active_count())\n",
    "print(threading.enumerate())"
   ]
  },
  {
   "cell_type": "code",
   "execution_count": 4,
   "metadata": {},
   "outputs": [
    {
     "data": {
      "text/plain": [
       "{}"
      ]
     },
     "execution_count": 4,
     "metadata": {},
     "output_type": "execute_result"
    }
   ],
   "source": [
    "connector.MARKET_DATA_DB"
   ]
  },
  {
   "cell_type": "code",
   "execution_count": null,
   "metadata": {},
   "outputs": [],
   "source": [
    "connector._DWX_MTX_UNSUBSCRIBE_MARKETDATA_('GBPUSD')"
   ]
  },
  {
   "cell_type": "code",
   "execution_count": null,
   "metadata": {},
   "outputs": [],
   "source": [
    "tickdataframe = pd.DataFrame(connector._Market_Data_DB['GBPUSD'])"
   ]
  },
  {
   "cell_type": "code",
   "execution_count": null,
   "metadata": {
    "scrolled": true
   },
   "outputs": [],
   "source": [
    "tickdataframe = tickdataframe[['Time','Bid','Ask','Flag']]\n",
    "tickdataframe"
   ]
  },
  {
   "cell_type": "code",
   "execution_count": null,
   "metadata": {
    "scrolled": true
   },
   "outputs": [],
   "source": [
    "from pandas import HDFStore\n",
    "hdf = HDFStore('testTickData.h5')"
   ]
  },
  {
   "cell_type": "code",
   "execution_count": null,
   "metadata": {
    "scrolled": true
   },
   "outputs": [],
   "source": [
    "hdf.put('testdata',tickdataframe,format='table',data_columns=True)"
   ]
  },
  {
   "cell_type": "code",
   "execution_count": null,
   "metadata": {},
   "outputs": [],
   "source": [
    "hdf['testdata']"
   ]
  },
  {
   "cell_type": "markdown",
   "metadata": {
    "heading_collapsed": true
   },
   "source": [
    "# Loading data from HD5 File"
   ]
  },
  {
   "cell_type": "code",
   "execution_count": null,
   "metadata": {
    "hidden": true
   },
   "outputs": [],
   "source": [
    "readDataFrame = pd.read_hdf('testTickData.h5')\n",
    "readDataFrame.set_index('Time').loc[:,'Bid':'Ask']\n",
    "#truncatedDataFrame = readDataFrame\n",
    "#truncatedDataFrame['Time'] = truncatedDataFrame['Time'].dt.floor('S')\n",
    "#truncatedDataFrame"
   ]
  },
  {
   "cell_type": "markdown",
   "metadata": {},
   "source": [
    "# Calculate OHLC Data"
   ]
  },
  {
   "cell_type": "code",
   "execution_count": null,
   "metadata": {},
   "outputs": [],
   "source": [
    "OHLCData = readDataFrame.resample('1min').agg({'Bid':'ohlc','Ask':'ohlc','Flag':'max'})\n",
    "OHLCData"
   ]
  },
  {
   "cell_type": "code",
   "execution_count": null,
   "metadata": {},
   "outputs": [],
   "source": [
    "OHLCData.loc[:,'Bid'].plot()"
   ]
  },
  {
   "cell_type": "code",
   "execution_count": null,
   "metadata": {},
   "outputs": [],
   "source": []
  }
 ],
 "metadata": {
  "kernelspec": {
   "display_name": "Python 3",
   "language": "python",
   "name": "python3"
  },
  "language_info": {
   "codemirror_mode": {
    "name": "ipython",
    "version": 3
   },
   "file_extension": ".py",
   "mimetype": "text/x-python",
   "name": "python",
   "nbconvert_exporter": "python",
   "pygments_lexer": "ipython3",
   "version": "3.7.3"
  },
  "varInspector": {
   "cols": {
    "lenName": 16,
    "lenType": 16,
    "lenVar": 40
   },
   "kernels_config": {
    "python": {
     "delete_cmd_postfix": "",
     "delete_cmd_prefix": "del ",
     "library": "var_list.py",
     "varRefreshCmd": "print(var_dic_list())"
    },
    "r": {
     "delete_cmd_postfix": ") ",
     "delete_cmd_prefix": "rm(",
     "library": "var_list.r",
     "varRefreshCmd": "cat(var_dic_list()) "
    }
   },
   "types_to_exclude": [
    "module",
    "function",
    "builtin_function_or_method",
    "instance",
    "_Feature"
   ],
   "window_display": false
  }
 },
 "nbformat": 4,
 "nbformat_minor": 2
}
